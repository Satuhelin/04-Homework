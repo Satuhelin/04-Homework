{
 "cells": [
  {
   "cell_type": "markdown",
   "metadata": {},
   "source": [
    "# SWAPI (Star Wars)\n",
    "\n",
    "Answer the following questions using the [Star Wars](https://swapi.co/). I've added three cells for each question but you're free to use more or less! Hold `Shift` and hit `Enter` to run a cell, and use the `+` on the top left to add a new cell to a notebook.\n",
    "\n",
    "If you spend some time reading the documentation your life will probably be a little bit easier!\n",
    "\n",
    "## 0) Import any libraries you might need\n",
    "\n",
    "- *Tip: We're going to be downloading things from the internet, so we probably need `requests`.*"
   ]
  },
  {
   "cell_type": "code",
   "execution_count": 40,
   "metadata": {},
   "outputs": [
    {
     "data": {
      "text/plain": [
       "['https://swapi.co/api/films/2/',\n",
       " 'https://swapi.co/api/films/6/',\n",
       " 'https://swapi.co/api/films/3/',\n",
       " 'https://swapi.co/api/films/1/',\n",
       " 'https://swapi.co/api/films/7/']"
      ]
     },
     "execution_count": 40,
     "metadata": {},
     "output_type": "execute_result"
    }
   ],
   "source": [
    "import requests\n",
    "\n",
    "response= requests.get('https://swapi.co/api/people/1/')\n",
    "data=response.json()\n",
    "data['films']"
   ]
  },
  {
   "cell_type": "code",
   "execution_count": null,
   "metadata": {},
   "outputs": [],
   "source": []
  },
  {
   "cell_type": "code",
   "execution_count": null,
   "metadata": {},
   "outputs": [],
   "source": []
  },
  {
   "cell_type": "markdown",
   "metadata": {},
   "source": [
    "## 1) Make a request to the Star Wars API\n",
    "\n",
    "I've heard there's a new Star Wars film called **Solo**, but it isn't in SWAPI!\n",
    "\n",
    "The most recent film it contains has an ID of 7. Make a request for that film and look at the data."
   ]
  },
  {
   "cell_type": "code",
   "execution_count": 41,
   "metadata": {},
   "outputs": [
    {
     "data": {
      "text/plain": [
       "{'title': 'The Force Awakens',\n",
       " 'episode_id': 7,\n",
       " 'opening_crawl': \"Luke Skywalker has vanished.\\r\\nIn his absence, the sinister\\r\\nFIRST ORDER has risen from\\r\\nthe ashes of the Empire\\r\\nand will not rest until\\r\\nSkywalker, the last Jedi,\\r\\nhas been destroyed.\\r\\n \\r\\nWith the support of the\\r\\nREPUBLIC, General Leia Organa\\r\\nleads a brave RESISTANCE.\\r\\nShe is desperate to find her\\r\\nbrother Luke and gain his\\r\\nhelp in restoring peace and\\r\\njustice to the galaxy.\\r\\n \\r\\nLeia has sent her most daring\\r\\npilot on a secret mission\\r\\nto Jakku, where an old ally\\r\\nhas discovered a clue to\\r\\nLuke's whereabouts....\",\n",
       " 'director': 'J. J. Abrams',\n",
       " 'producer': 'Kathleen Kennedy, J. J. Abrams, Bryan Burk',\n",
       " 'release_date': '2015-12-11',\n",
       " 'characters': ['https://swapi.co/api/people/1/',\n",
       "  'https://swapi.co/api/people/3/',\n",
       "  'https://swapi.co/api/people/5/',\n",
       "  'https://swapi.co/api/people/13/',\n",
       "  'https://swapi.co/api/people/14/',\n",
       "  'https://swapi.co/api/people/27/',\n",
       "  'https://swapi.co/api/people/84/',\n",
       "  'https://swapi.co/api/people/85/',\n",
       "  'https://swapi.co/api/people/86/',\n",
       "  'https://swapi.co/api/people/87/',\n",
       "  'https://swapi.co/api/people/88/'],\n",
       " 'planets': ['https://swapi.co/api/planets/61/'],\n",
       " 'starships': ['https://swapi.co/api/starships/77/',\n",
       "  'https://swapi.co/api/starships/10/'],\n",
       " 'vehicles': [],\n",
       " 'species': ['https://swapi.co/api/species/3/',\n",
       "  'https://swapi.co/api/species/2/',\n",
       "  'https://swapi.co/api/species/1/'],\n",
       " 'created': '2015-04-17T06:51:30.504780Z',\n",
       " 'edited': '2015-12-17T14:31:47.617768Z',\n",
       " 'url': 'https://swapi.co/api/films/7/'}"
      ]
     },
     "execution_count": 41,
     "metadata": {},
     "output_type": "execute_result"
    }
   ],
   "source": [
    "import requests\n",
    "\n",
    "response= requests.get('https://swapi.co/api/films/7/')\n",
    "data_solo=response.json()\n",
    "data_solo"
   ]
  },
  {
   "cell_type": "code",
   "execution_count": null,
   "metadata": {},
   "outputs": [],
   "source": []
  },
  {
   "cell_type": "code",
   "execution_count": null,
   "metadata": {},
   "outputs": [],
   "source": []
  },
  {
   "cell_type": "markdown",
   "metadata": {},
   "source": [
    "## 2) What is that film's name, and when was it released?\n",
    "\n",
    "Please print **only** the title and the release date. You can guess at the keys, but I recommend checking the documentation."
   ]
  },
  {
   "cell_type": "code",
   "execution_count": 71,
   "metadata": {},
   "outputs": [
    {
     "data": {
      "text/plain": [
       "'The Force Awakens'"
      ]
     },
     "execution_count": 71,
     "metadata": {},
     "output_type": "execute_result"
    }
   ],
   "source": [
    "data_solo['title']"
   ]
  },
  {
   "cell_type": "code",
   "execution_count": 72,
   "metadata": {},
   "outputs": [
    {
     "data": {
      "text/plain": [
       "'2015-12-11'"
      ]
     },
     "execution_count": 72,
     "metadata": {},
     "output_type": "execute_result"
    }
   ],
   "source": [
    "data_solo['release_date']"
   ]
  },
  {
   "cell_type": "code",
   "execution_count": null,
   "metadata": {},
   "outputs": [],
   "source": []
  },
  {
   "cell_type": "code",
   "execution_count": null,
   "metadata": {},
   "outputs": [],
   "source": []
  },
  {
   "cell_type": "markdown",
   "metadata": {},
   "source": [
    "## 3) But I want Han Solo! Use the API to search for people named \"Solo\"."
   ]
  },
  {
   "cell_type": "code",
   "execution_count": 73,
   "metadata": {},
   "outputs": [],
   "source": [
    "import requests\n",
    "\n",
    "response= requests.get('https://swapi.co/api/people/?search=solo')\n",
    "data_hansolo = response.json()"
   ]
  },
  {
   "cell_type": "code",
   "execution_count": 26,
   "metadata": {},
   "outputs": [],
   "source": [
    "results =     {\n",
    "            \"name\": \"Han Solo\", \n",
    "            \"height\": \"180\", \n",
    "            \"mass\": \"80\", \n",
    "            \"hair_color\": \"brown\", \n",
    "            \"skin_color\": \"fair\", \n",
    "            \"eye_color\": \"brown\", \n",
    "            \"birth_year\": \"29BBY\", \n",
    "            \"gender\": \"male\", \n",
    "            \"homeworld\": \"https://swapi.co/api/planets/22/\", \n",
    "            \"films\": [\n",
    "                \"https://swapi.co/api/films/2/\", \n",
    "                \"https://swapi.co/api/films/3/\", \n",
    "                \"https://swapi.co/api/films/1/\", \n",
    "                \"https://swapi.co/api/films/7/\"\n",
    "            ], \n",
    "            \"species\": [\n",
    "                \"https://swapi.co/api/species/1/\"\n",
    "            ], \n",
    "            \"vehicles\": [], \n",
    "            \"starships\": [\n",
    "                \"https://swapi.co/api/starships/10/\", \n",
    "                \"https://swapi.co/api/starships/22/\"\n",
    "            ], \n",
    "            \"created\": \"2014-12-10T16:49:14.582000Z\", \n",
    "            \"edited\": \"2014-12-20T21:17:50.334000Z\", \n",
    "            \"url\": \"https://swapi.co/api/people/14/\"\n",
    "        }"
   ]
  },
  {
   "cell_type": "code",
   "execution_count": null,
   "metadata": {},
   "outputs": [],
   "source": []
  },
  {
   "cell_type": "markdown",
   "metadata": {},
   "source": [
    "## 4) How many results did you get?\n",
    "\n",
    "Show **two different ways** of displaying this number.\n",
    "\n",
    "- *Tip: One uses the API, and one uses a Python function*"
   ]
  },
  {
   "cell_type": "code",
   "execution_count": 28,
   "metadata": {},
   "outputs": [
    {
     "name": "stdout",
     "output_type": "stream",
     "text": [
      "1\n"
     ]
    }
   ],
   "source": [
    "print (len(['name']))"
   ]
  },
  {
   "cell_type": "code",
   "execution_count": 32,
   "metadata": {},
   "outputs": [],
   "source": [
    "# In('https://swapi.co/api/people/?search=solo')\n",
    "#count: 1"
   ]
  },
  {
   "cell_type": "code",
   "execution_count": null,
   "metadata": {},
   "outputs": [],
   "source": []
  },
  {
   "cell_type": "markdown",
   "metadata": {},
   "source": [
    "## 5) Write me a sentence about Han Solo\n",
    "\n",
    "Your sentence should be say `\"____ has _____ hair, is _____cm tall and weighs ____kg.\"` - make sure you have **no spcaes** between the numbers and `cm`/`kg`."
   ]
  },
  {
   "cell_type": "code",
   "execution_count": 42,
   "metadata": {},
   "outputs": [
    {
     "ename": "NameError",
     "evalue": "name 'results' is not defined",
     "output_type": "error",
     "traceback": [
      "\u001b[1;31m---------------------------------------------------------------------------\u001b[0m",
      "\u001b[1;31mNameError\u001b[0m                                 Traceback (most recent call last)",
      "\u001b[1;32m<ipython-input-42-69bfbb654041>\u001b[0m in \u001b[0;36m<module>\u001b[1;34m\u001b[0m\n\u001b[0;32m      1\u001b[0m \u001b[1;33m\u001b[0m\u001b[0m\n\u001b[1;32m----> 2\u001b[1;33m \u001b[0mprint\u001b[0m\u001b[1;33m(\u001b[0m\u001b[0mresults\u001b[0m\u001b[1;33m[\u001b[0m\u001b[1;34m'name'\u001b[0m\u001b[1;33m]\u001b[0m\u001b[1;33m,\u001b[0m \u001b[1;34m\"has\"\u001b[0m\u001b[1;33m,\u001b[0m \u001b[0mresults\u001b[0m\u001b[1;33m[\u001b[0m\u001b[1;34m'hair_color'\u001b[0m\u001b[1;33m]\u001b[0m\u001b[1;33m,\u001b[0m \u001b[1;34m\"hair, is\"\u001b[0m\u001b[1;33m,\u001b[0m \u001b[0mresults\u001b[0m\u001b[1;33m[\u001b[0m\u001b[1;34m'height'\u001b[0m\u001b[1;33m]\u001b[0m\u001b[1;33m,\u001b[0m\u001b[1;34m\"cm tall and weights\"\u001b[0m\u001b[1;33m,\u001b[0m \u001b[0mresults\u001b[0m\u001b[1;33m[\u001b[0m\u001b[1;34m'mass'\u001b[0m\u001b[1;33m]\u001b[0m\u001b[1;33m,\u001b[0m\u001b[1;34m\"kg\"\u001b[0m\u001b[1;33m)\u001b[0m\u001b[1;33m\u001b[0m\u001b[1;33m\u001b[0m\u001b[0m\n\u001b[0m",
      "\u001b[1;31mNameError\u001b[0m: name 'results' is not defined"
     ]
    }
   ],
   "source": [
    "\n",
    "print(results['name'], \"has\", results['hair_color'], \"hair, is\", results['height'],\"cm tall and weights\", results['mass'],\"kg\")"
   ]
  },
  {
   "cell_type": "code",
   "execution_count": null,
   "metadata": {},
   "outputs": [],
   "source": []
  },
  {
   "cell_type": "code",
   "execution_count": null,
   "metadata": {},
   "outputs": [],
   "source": []
  },
  {
   "cell_type": "markdown",
   "metadata": {},
   "source": [
    "## 5) Search for C-3PO"
   ]
  },
  {
   "cell_type": "code",
   "execution_count": 43,
   "metadata": {},
   "outputs": [
    {
     "name": "stdout",
     "output_type": "stream",
     "text": [
      "{'count': 1, 'next': None, 'previous': None, 'results': [{'name': 'C-3PO', 'height': '167', 'mass': '75', 'hair_color': 'n/a', 'skin_color': 'gold', 'eye_color': 'yellow', 'birth_year': '112BBY', 'gender': 'n/a', 'homeworld': 'https://swapi.co/api/planets/1/', 'films': ['https://swapi.co/api/films/2/', 'https://swapi.co/api/films/5/', 'https://swapi.co/api/films/4/', 'https://swapi.co/api/films/6/', 'https://swapi.co/api/films/3/', 'https://swapi.co/api/films/1/'], 'species': ['https://swapi.co/api/species/2/'], 'vehicles': [], 'starships': [], 'created': '2014-12-10T15:10:51.357000Z', 'edited': '2014-12-20T21:17:50.309000Z', 'url': 'https://swapi.co/api/people/2/'}]}\n"
     ]
    }
   ],
   "source": [
    "response= requests.get('https://swapi.co/api/people/?search=c-3po')\n",
    "data_c3 = response.json()\n",
    "print(data_c3)"
   ]
  },
  {
   "cell_type": "code",
   "execution_count": null,
   "metadata": {},
   "outputs": [],
   "source": []
  },
  {
   "cell_type": "code",
   "execution_count": null,
   "metadata": {},
   "outputs": [],
   "source": []
  },
  {
   "cell_type": "markdown",
   "metadata": {},
   "source": [
    "## 6) What URL can tell me more about his species? Make a request to the corrent endpoint.\n",
    "\n",
    "Spoiler: he's a **droid**. Are robots a species? I guess so, maybe."
   ]
  },
  {
   "cell_type": "code",
   "execution_count": 47,
   "metadata": {},
   "outputs": [
    {
     "name": "stdout",
     "output_type": "stream",
     "text": [
      "{'name': 'Droid', 'classification': 'artificial', 'designation': 'sentient', 'average_height': 'n/a', 'skin_colors': 'n/a', 'hair_colors': 'n/a', 'eye_colors': 'n/a', 'average_lifespan': 'indefinite', 'homeworld': None, 'language': 'n/a', 'people': ['https://swapi.co/api/people/2/', 'https://swapi.co/api/people/3/', 'https://swapi.co/api/people/8/', 'https://swapi.co/api/people/23/', 'https://swapi.co/api/people/87/'], 'films': ['https://swapi.co/api/films/2/', 'https://swapi.co/api/films/7/', 'https://swapi.co/api/films/5/', 'https://swapi.co/api/films/4/', 'https://swapi.co/api/films/6/', 'https://swapi.co/api/films/3/', 'https://swapi.co/api/films/1/'], 'created': '2014-12-10T15:16:16.259000Z', 'edited': '2015-04-17T06:59:43.869528Z', 'url': 'https://swapi.co/api/species/2/'}\n"
     ]
    }
   ],
   "source": [
    "response= requests.get('https://swapi.co/api/species/2/')\n",
    "data_robot_droids = response.json()\n",
    "print(data_robot_droids)"
   ]
  },
  {
   "cell_type": "code",
   "execution_count": null,
   "metadata": {},
   "outputs": [],
   "source": []
  },
  {
   "cell_type": "code",
   "execution_count": null,
   "metadata": {},
   "outputs": [],
   "source": []
  },
  {
   "cell_type": "markdown",
   "metadata": {},
   "source": [
    "## 7) Print out the URL of every droid\n",
    "\n",
    "* *Tip: life will be easier if you don't say `for droid in...` or `for person in` because you aren't looping through droids or people. What are you looping through?*"
   ]
  },
  {
   "cell_type": "code",
   "execution_count": 48,
   "metadata": {},
   "outputs": [],
   "source": [
    "masterDroids = data_robot_droids['people']"
   ]
  },
  {
   "cell_type": "code",
   "execution_count": 49,
   "metadata": {},
   "outputs": [
    {
     "data": {
      "text/plain": [
       "['https://swapi.co/api/people/2/',\n",
       " 'https://swapi.co/api/people/3/',\n",
       " 'https://swapi.co/api/people/8/',\n",
       " 'https://swapi.co/api/people/23/',\n",
       " 'https://swapi.co/api/people/87/']"
      ]
     },
     "execution_count": 49,
     "metadata": {},
     "output_type": "execute_result"
    }
   ],
   "source": [
    "masterDroids"
   ]
  },
  {
   "cell_type": "code",
   "execution_count": null,
   "metadata": {},
   "outputs": [],
   "source": []
  },
  {
   "cell_type": "markdown",
   "metadata": {},
   "source": [
    "## 8) Print out the name of every droid\n",
    "\n",
    "* *Tip: You should start from the last answer, but add more stuff in!*\n",
    "* *Tip: You'll need to make a request every time you're in the loop*\n",
    "* *Tip: Be careful - f you re-use the variable name `data` you'll erase your old `data` variable*"
   ]
  },
  {
   "cell_type": "code",
   "execution_count": null,
   "metadata": {},
   "outputs": [],
   "source": [
    "\n",
    "    "
   ]
  },
  {
   "cell_type": "code",
   "execution_count": 50,
   "metadata": {},
   "outputs": [
    {
     "name": "stdout",
     "output_type": "stream",
     "text": [
      "C-3PO\n",
      "R2-D2\n",
      "R5-D4\n",
      "IG-88\n",
      "BB8\n"
     ]
    }
   ],
   "source": [
    "for url in masterDroids:\n",
    "    response= requests.get(url)\n",
    "    data = response.json()\n",
    "    print(data['name'])"
   ]
  },
  {
   "cell_type": "code",
   "execution_count": null,
   "metadata": {},
   "outputs": [],
   "source": []
  },
  {
   "cell_type": "markdown",
   "metadata": {},
   "source": [
    "## 9) Print out more about the droid\n",
    "\n",
    "Count the number of films for each droid, printing `\"___ was in ___ films\"` for each of them\n",
    "\n",
    "* *Tip: You might want to look at a single droid result, or print the data in the for loop, so you know how to get the films. Or read the documentation!*"
   ]
  },
  {
   "cell_type": "code",
   "execution_count": 51,
   "metadata": {},
   "outputs": [
    {
     "name": "stdout",
     "output_type": "stream",
     "text": [
      "C-3PO was in 6\n",
      "R2-D2 was in 7\n",
      "R5-D4 was in 1\n",
      "IG-88 was in 1\n",
      "BB8 was in 1\n"
     ]
    }
   ],
   "source": [
    "for url in masterDroids:\n",
    "    response= requests.get(url)\n",
    "    droidsFilms = response.json()\n",
    "    print(droidsFilms['name'], \"was in\", len(droidsFilms['films']))"
   ]
  },
  {
   "cell_type": "code",
   "execution_count": null,
   "metadata": {},
   "outputs": [],
   "source": []
  },
  {
   "cell_type": "code",
   "execution_count": null,
   "metadata": {},
   "outputs": [],
   "source": []
  },
  {
   "cell_type": "markdown",
   "metadata": {},
   "source": [
    "## 10) Let's be smart and cache the results *[DIFFICULT, maybe!]*\n",
    "\n",
    "So far we've been using a for loop to go through each droid. Every droid, one more request. Every time we want more data, we run the loops again. I don't want that guy to get angry that we're asking for so much data!\n",
    "\n",
    "We want to our list of **droid urls** and turn it into a **list of dictionaries about those droids**. Save it as a variable called `droids`. If you get it correct, the following code should work if you cut and paste it.\n",
    "\n",
    "```python\n",
    "for droid in droids:\n",
    "    print(droid['name'])\n",
    "```\n",
    "\n",
    "* *Tip: Use a list comprehension*\n",
    "* *Tip: So far we've done `response = requests.get..` and `response.json()` on separate lines. You'll need to combine them!*"
   ]
  },
  {
   "cell_type": "code",
   "execution_count": null,
   "metadata": {},
   "outputs": [],
   "source": []
  },
  {
   "cell_type": "code",
   "execution_count": null,
   "metadata": {},
   "outputs": [],
   "source": []
  },
  {
   "cell_type": "code",
   "execution_count": null,
   "metadata": {},
   "outputs": [],
   "source": []
  },
  {
   "cell_type": "markdown",
   "metadata": {},
   "source": [
    "## 11) Get a list of every single planet in the Star Wars universe\n",
    "\n",
    "* *Tip: You'll want to use the API documentation for this, I think*"
   ]
  },
  {
   "cell_type": "code",
   "execution_count": 3,
   "metadata": {},
   "outputs": [],
   "source": [
    "import requests"
   ]
  },
  {
   "cell_type": "code",
   "execution_count": 52,
   "metadata": {},
   "outputs": [],
   "source": [
    "response= requests.get('https://swapi.co/api/planets')\n",
    "original_data = response.json()\n",
    "data_planets=original_data['results']"
   ]
  },
  {
   "cell_type": "code",
   "execution_count": 59,
   "metadata": {},
   "outputs": [
    {
     "name": "stdout",
     "output_type": "stream",
     "text": [
      "<class 'dict'>\n"
     ]
    }
   ],
   "source": [
    "print(type(data_planets[0]))"
   ]
  },
  {
   "cell_type": "code",
   "execution_count": 8,
   "metadata": {},
   "outputs": [
    {
     "data": {
      "text/plain": [
       "'Alderaan'"
      ]
     },
     "execution_count": 8,
     "metadata": {},
     "output_type": "execute_result"
    }
   ],
   "source": [
    "data_planets[0]['name']"
   ]
  },
  {
   "cell_type": "code",
   "execution_count": 58,
   "metadata": {},
   "outputs": [
    {
     "name": "stdout",
     "output_type": "stream",
     "text": [
      "Alderaan\n",
      "Yavin IV\n",
      "Hoth\n",
      "Dagobah\n",
      "Bespin\n",
      "Endor\n",
      "Naboo\n",
      "Coruscant\n",
      "Kamino\n",
      "Geonosis\n"
     ]
    }
   ],
   "source": [
    "for planet in data_planets:\n",
    "     print(planet['name'])"
   ]
  },
  {
   "cell_type": "markdown",
   "metadata": {},
   "source": [
    "## 12) How many plants are there? Show me two different ways of displaying the answer.\n",
    "\n",
    "* *Tip: They won't match*"
   ]
  },
  {
   "cell_type": "code",
   "execution_count": 61,
   "metadata": {},
   "outputs": [],
   "source": [
    "# In('https://swapi.co/api/planets')\n",
    "#count: 61\n"
   ]
  },
  {
   "cell_type": "code",
   "execution_count": 60,
   "metadata": {},
   "outputs": [
    {
     "data": {
      "text/plain": [
       "10"
      ]
     },
     "execution_count": 60,
     "metadata": {},
     "output_type": "execute_result"
    }
   ],
   "source": [
    "len(data_planets)"
   ]
  },
  {
   "cell_type": "code",
   "execution_count": null,
   "metadata": {},
   "outputs": [],
   "source": []
  },
  {
   "cell_type": "markdown",
   "metadata": {},
   "source": [
    "# These questions are all list comprehension questions, if you'd like\n",
    "\n",
    "## 13) Get the population of each of the planets\n",
    "\n",
    "* *Tip: Only use the 10 results for now*\n",
    "* *Tip: Use a list comprehension*"
   ]
  },
  {
   "cell_type": "code",
   "execution_count": 65,
   "metadata": {},
   "outputs": [],
   "source": [
    "import requests\n",
    "response= requests.get('https://swapi.co/api/planets')\n",
    "population = response.json()\n",
    "population_planets=population['results']"
   ]
  },
  {
   "cell_type": "code",
   "execution_count": 66,
   "metadata": {},
   "outputs": [
    {
     "name": "stdout",
     "output_type": "stream",
     "text": [
      "Alderaan 2000000000\n",
      "Yavin IV 1000\n",
      "Hoth unknown\n",
      "Dagobah unknown\n",
      "Bespin 6000000\n",
      "Endor 30000000\n",
      "Naboo 4500000000\n",
      "Coruscant 1000000000000\n",
      "Kamino 1000000000\n",
      "Geonosis 100000000000\n"
     ]
    }
   ],
   "source": [
    "for pop in population_planets:\n",
    "    print (pop['name'],pop['population'])"
   ]
  },
  {
   "cell_type": "code",
   "execution_count": 129,
   "metadata": {},
   "outputs": [
    {
     "name": "stdout",
     "output_type": "stream",
     "text": [
      "['2000000000', '1000', 'unknown', 'unknown', '6000000', '30000000', '4500000000', '1000000000000', '1000000000', '100000000000']\n"
     ]
    }
   ],
   "source": [
    "EveryPop=[pop['population']for pop in population_planets]\n",
    "print(EveryPop)\n"
   ]
  },
  {
   "cell_type": "markdown",
   "metadata": {},
   "source": [
    "## 14) Get the population of each of the planets, EXCEPT the ones that have a population of `'unknown'`\n",
    "\n",
    "* *Tip: Use a list comprehension with a filter (that's the `..if..` part at the end)*"
   ]
  },
  {
   "cell_type": "code",
   "execution_count": 127,
   "metadata": {},
   "outputs": [
    {
     "data": {
      "text/plain": [
       "[{'name': 'Alderaan',\n",
       "  'rotation_period': '24',\n",
       "  'orbital_period': '364',\n",
       "  'diameter': '12500',\n",
       "  'climate': 'temperate',\n",
       "  'gravity': '1 standard',\n",
       "  'terrain': 'grasslands, mountains',\n",
       "  'surface_water': '40',\n",
       "  'population': '2000000000',\n",
       "  'residents': ['https://swapi.co/api/people/5/',\n",
       "   'https://swapi.co/api/people/68/',\n",
       "   'https://swapi.co/api/people/81/'],\n",
       "  'films': ['https://swapi.co/api/films/6/', 'https://swapi.co/api/films/1/'],\n",
       "  'created': '2014-12-10T11:35:48.479000Z',\n",
       "  'edited': '2014-12-20T20:58:18.420000Z',\n",
       "  'url': 'https://swapi.co/api/planets/2/'},\n",
       " {'name': 'Yavin IV',\n",
       "  'rotation_period': '24',\n",
       "  'orbital_period': '4818',\n",
       "  'diameter': '10200',\n",
       "  'climate': 'temperate, tropical',\n",
       "  'gravity': '1 standard',\n",
       "  'terrain': 'jungle, rainforests',\n",
       "  'surface_water': '8',\n",
       "  'population': '1000',\n",
       "  'residents': [],\n",
       "  'films': ['https://swapi.co/api/films/1/'],\n",
       "  'created': '2014-12-10T11:37:19.144000Z',\n",
       "  'edited': '2014-12-20T20:58:18.421000Z',\n",
       "  'url': 'https://swapi.co/api/planets/3/'},\n",
       " {'name': 'Hoth',\n",
       "  'rotation_period': '23',\n",
       "  'orbital_period': '549',\n",
       "  'diameter': '7200',\n",
       "  'climate': 'frozen',\n",
       "  'gravity': '1.1 standard',\n",
       "  'terrain': 'tundra, ice caves, mountain ranges',\n",
       "  'surface_water': '100',\n",
       "  'population': 'unknown',\n",
       "  'residents': [],\n",
       "  'films': ['https://swapi.co/api/films/2/'],\n",
       "  'created': '2014-12-10T11:39:13.934000Z',\n",
       "  'edited': '2014-12-20T20:58:18.423000Z',\n",
       "  'url': 'https://swapi.co/api/planets/4/'},\n",
       " {'name': 'Dagobah',\n",
       "  'rotation_period': '23',\n",
       "  'orbital_period': '341',\n",
       "  'diameter': '8900',\n",
       "  'climate': 'murky',\n",
       "  'gravity': 'N/A',\n",
       "  'terrain': 'swamp, jungles',\n",
       "  'surface_water': '8',\n",
       "  'population': 'unknown',\n",
       "  'residents': [],\n",
       "  'films': ['https://swapi.co/api/films/2/',\n",
       "   'https://swapi.co/api/films/6/',\n",
       "   'https://swapi.co/api/films/3/'],\n",
       "  'created': '2014-12-10T11:42:22.590000Z',\n",
       "  'edited': '2014-12-20T20:58:18.425000Z',\n",
       "  'url': 'https://swapi.co/api/planets/5/'},\n",
       " {'name': 'Bespin',\n",
       "  'rotation_period': '12',\n",
       "  'orbital_period': '5110',\n",
       "  'diameter': '118000',\n",
       "  'climate': 'temperate',\n",
       "  'gravity': '1.5 (surface), 1 standard (Cloud City)',\n",
       "  'terrain': 'gas giant',\n",
       "  'surface_water': '0',\n",
       "  'population': '6000000',\n",
       "  'residents': ['https://swapi.co/api/people/26/'],\n",
       "  'films': ['https://swapi.co/api/films/2/'],\n",
       "  'created': '2014-12-10T11:43:55.240000Z',\n",
       "  'edited': '2014-12-20T20:58:18.427000Z',\n",
       "  'url': 'https://swapi.co/api/planets/6/'},\n",
       " {'name': 'Endor',\n",
       "  'rotation_period': '18',\n",
       "  'orbital_period': '402',\n",
       "  'diameter': '4900',\n",
       "  'climate': 'temperate',\n",
       "  'gravity': '0.85 standard',\n",
       "  'terrain': 'forests, mountains, lakes',\n",
       "  'surface_water': '8',\n",
       "  'population': '30000000',\n",
       "  'residents': ['https://swapi.co/api/people/30/'],\n",
       "  'films': ['https://swapi.co/api/films/3/'],\n",
       "  'created': '2014-12-10T11:50:29.349000Z',\n",
       "  'edited': '2014-12-20T20:58:18.429000Z',\n",
       "  'url': 'https://swapi.co/api/planets/7/'},\n",
       " {'name': 'Naboo',\n",
       "  'rotation_period': '26',\n",
       "  'orbital_period': '312',\n",
       "  'diameter': '12120',\n",
       "  'climate': 'temperate',\n",
       "  'gravity': '1 standard',\n",
       "  'terrain': 'grassy hills, swamps, forests, mountains',\n",
       "  'surface_water': '12',\n",
       "  'population': '4500000000',\n",
       "  'residents': ['https://swapi.co/api/people/3/',\n",
       "   'https://swapi.co/api/people/21/',\n",
       "   'https://swapi.co/api/people/36/',\n",
       "   'https://swapi.co/api/people/37/',\n",
       "   'https://swapi.co/api/people/38/',\n",
       "   'https://swapi.co/api/people/39/',\n",
       "   'https://swapi.co/api/people/42/',\n",
       "   'https://swapi.co/api/people/60/',\n",
       "   'https://swapi.co/api/people/61/',\n",
       "   'https://swapi.co/api/people/66/',\n",
       "   'https://swapi.co/api/people/35/'],\n",
       "  'films': ['https://swapi.co/api/films/5/',\n",
       "   'https://swapi.co/api/films/4/',\n",
       "   'https://swapi.co/api/films/6/',\n",
       "   'https://swapi.co/api/films/3/'],\n",
       "  'created': '2014-12-10T11:52:31.066000Z',\n",
       "  'edited': '2014-12-20T20:58:18.430000Z',\n",
       "  'url': 'https://swapi.co/api/planets/8/'},\n",
       " {'name': 'Coruscant',\n",
       "  'rotation_period': '24',\n",
       "  'orbital_period': '368',\n",
       "  'diameter': '12240',\n",
       "  'climate': 'temperate',\n",
       "  'gravity': '1 standard',\n",
       "  'terrain': 'cityscape, mountains',\n",
       "  'surface_water': 'unknown',\n",
       "  'population': '1000000000000',\n",
       "  'residents': ['https://swapi.co/api/people/34/',\n",
       "   'https://swapi.co/api/people/55/',\n",
       "   'https://swapi.co/api/people/74/'],\n",
       "  'films': ['https://swapi.co/api/films/5/',\n",
       "   'https://swapi.co/api/films/4/',\n",
       "   'https://swapi.co/api/films/6/',\n",
       "   'https://swapi.co/api/films/3/'],\n",
       "  'created': '2014-12-10T11:54:13.921000Z',\n",
       "  'edited': '2014-12-20T20:58:18.432000Z',\n",
       "  'url': 'https://swapi.co/api/planets/9/'},\n",
       " {'name': 'Kamino',\n",
       "  'rotation_period': '27',\n",
       "  'orbital_period': '463',\n",
       "  'diameter': '19720',\n",
       "  'climate': 'temperate',\n",
       "  'gravity': '1 standard',\n",
       "  'terrain': 'ocean',\n",
       "  'surface_water': '100',\n",
       "  'population': '1000000000',\n",
       "  'residents': ['https://swapi.co/api/people/22/',\n",
       "   'https://swapi.co/api/people/72/',\n",
       "   'https://swapi.co/api/people/73/'],\n",
       "  'films': ['https://swapi.co/api/films/5/'],\n",
       "  'created': '2014-12-10T12:45:06.577000Z',\n",
       "  'edited': '2014-12-20T20:58:18.434000Z',\n",
       "  'url': 'https://swapi.co/api/planets/10/'},\n",
       " {'name': 'Geonosis',\n",
       "  'rotation_period': '30',\n",
       "  'orbital_period': '256',\n",
       "  'diameter': '11370',\n",
       "  'climate': 'temperate, arid',\n",
       "  'gravity': '0.9 standard',\n",
       "  'terrain': 'rock, desert, mountain, barren',\n",
       "  'surface_water': '5',\n",
       "  'population': '100000000000',\n",
       "  'residents': ['https://swapi.co/api/people/63/'],\n",
       "  'films': ['https://swapi.co/api/films/5/'],\n",
       "  'created': '2014-12-10T12:47:22.350000Z',\n",
       "  'edited': '2014-12-20T20:58:18.437000Z',\n",
       "  'url': 'https://swapi.co/api/planets/11/'}]"
      ]
     },
     "execution_count": 127,
     "metadata": {},
     "output_type": "execute_result"
    }
   ],
   "source": [
    "import requests\n",
    "response= requests.get('https://swapi.co/api/planets')\n",
    "population = response.json()\n",
    "all_population=population['results']\n",
    "all_population"
   ]
  },
  {
   "cell_type": "code",
   "execution_count": 102,
   "metadata": {},
   "outputs": [
    {
     "name": "stdout",
     "output_type": "stream",
     "text": [
      "<class 'list'>\n"
     ]
    }
   ],
   "source": [
    "print(type(all_population))"
   ]
  },
  {
   "cell_type": "code",
   "execution_count": 125,
   "metadata": {},
   "outputs": [
    {
     "name": "stdout",
     "output_type": "stream",
     "text": [
      "Alderaan 2000000000\n",
      "Yavin IV 1000\n",
      "Bespin 6000000\n",
      "Endor 30000000\n",
      "Naboo 4500000000\n",
      "Coruscant 1000000000000\n",
      "Kamino 1000000000\n",
      "Geonosis 100000000000\n"
     ]
    }
   ],
   "source": [
    "for pop in all_population:\n",
    "    if pop['population']!=(\"unknown\"):\n",
    "        print(pop['name'],pop['population'])"
   ]
  },
  {
   "cell_type": "code",
   "execution_count": 133,
   "metadata": {},
   "outputs": [
    {
     "name": "stdout",
     "output_type": "stream",
     "text": [
      "['2000000000', '1000', '6000000', '30000000', '4500000000', '1000000000000', '1000000000', '100000000000']\n"
     ]
    }
   ],
   "source": [
    "EveryPop=[pop['population']for pop in all_population if pop['population']!=\"unknown\"]\n",
    "print(EveryPop)\n",
    "\n"
   ]
  },
  {
   "cell_type": "markdown",
   "metadata": {},
   "source": [
    "## 14) Add up the populations\n",
    "\n",
    "* *Tip: They're strings right now, so it isn't going to work unless you change something about them*"
   ]
  },
  {
   "cell_type": "code",
   "execution_count": 138,
   "metadata": {},
   "outputs": [
    {
     "name": "stdout",
     "output_type": "stream",
     "text": [
      "1107536001000\n"
     ]
    }
   ],
   "source": [
    "count = 0\n",
    "for pop in EveryPop:\n",
    "    pop=int(pop)\n",
    "    count = count +pop\n",
    "print(count)"
   ]
  },
  {
   "cell_type": "code",
   "execution_count": null,
   "metadata": {},
   "outputs": [],
   "source": []
  },
  {
   "cell_type": "code",
   "execution_count": null,
   "metadata": {},
   "outputs": [],
   "source": []
  },
  {
   "cell_type": "markdown",
   "metadata": {},
   "source": [
    "## 15) Print what percentage of the total population each planet has\n",
    "\n",
    "I would like the sentences to be `\"The planet ____ has a population of _____, which is ___% of the total population\"`. If we don't know the planet's population, say `\"We don't know the population of _____\"`.\n",
    "\n",
    "* *Tip: This finally uses a for loop, but also the result of the last question*"
   ]
  },
  {
   "cell_type": "code",
   "execution_count": null,
   "metadata": {},
   "outputs": [],
   "source": []
  },
  {
   "cell_type": "code",
   "execution_count": null,
   "metadata": {},
   "outputs": [],
   "source": []
  },
  {
   "cell_type": "code",
   "execution_count": null,
   "metadata": {},
   "outputs": [],
   "source": []
  }
 ],
 "metadata": {
  "kernelspec": {
   "display_name": "Python 3",
   "language": "python",
   "name": "python3"
  },
  "language_info": {
   "codemirror_mode": {
    "name": "ipython",
    "version": 3
   },
   "file_extension": ".py",
   "mimetype": "text/x-python",
   "name": "python",
   "nbconvert_exporter": "python",
   "pygments_lexer": "ipython3",
   "version": "3.7.3"
  }
 },
 "nbformat": 4,
 "nbformat_minor": 2
}
